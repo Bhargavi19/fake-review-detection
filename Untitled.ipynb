{
 "cells": [
  {
   "cell_type": "code",
   "execution_count": 1,
   "metadata": {},
   "outputs": [],
   "source": [
    "import numpy as np\n",
    "import pandas as pd\n",
    "# from nltk import bigrams,trigrams\n",
    "from sklearn.feature_extraction.text import CountVectorizer,TfidfVectorizer\n",
    "from sklearn.ensemble import GradientBoostingClassifier, RandomForestClassifier\n",
    "import re\n",
    "from sklearn.model_selection import train_test_split\n",
    "from sklearn.metrics import accuracy_score\n",
    "from textblob import TextBlob\n",
    "from sklearn.decomposition import TruncatedSVD\n",
    "from nltk.corpus import stopwords\n",
    "import nltk\n",
    "from nltk.stem import PorterStemmer"
   ]
  },
  {
   "cell_type": "code",
   "execution_count": 82,
   "metadata": {},
   "outputs": [
    {
     "name": "stdout",
     "output_type": "stream",
     "text": [
      "inexpens tablet use learn on, step nabi. thrill it, learn skype already...\n"
     ]
    }
   ],
   "source": [
    "s = \"inexpensive tablet for him to use and learn on, step up from the nabi. he was thrilled with it, learn how to skype on it already...\"\n",
    "s = ' '.join([word for word in s.split() if word not in all_stop_words])\n",
    "s = ' '.join([st.stem(word) for word in s.split()])\n",
    "print(s)"
   ]
  },
  {
   "cell_type": "code",
   "execution_count": 85,
   "metadata": {},
   "outputs": [],
   "source": [
    "file1 = open(\"YelpChi/output_review_yelpResData_NRYRcleaned.txt\")\n",
    "data1 = []\n",
    "data4 = []\n",
    "all_stop_words = stopwords.words('english')\n",
    "st = PorterStemmer()\n",
    "for row in file1:\n",
    "    # temp = row.split()\n",
    "    row = re.sub('[^a-zA-Z0-9 \\n\\..]', '', row)\n",
    "    a,b = TextBlob(row).sentiment\n",
    "    row = ' '.join([word for word in row.split() if word not in all_stop_words])\n",
    "    row = ' '.join([st.stem(word) for word in row.split()])\n",
    "    data4.append([a,b])\n",
    "    data1.append(row)\n",
    "\n",
    "file1.close()\n",
    "# print(data1[0])"
   ]
  },
  {
   "cell_type": "code",
   "execution_count": 3,
   "metadata": {},
   "outputs": [],
   "source": [
    "file2 = open(\"YelpChi/output_meta_yelpResData_NRYRcleaned.txt\")\n",
    "data2 = []\n",
    "data3 = []\n",
    "for row in file2:\n",
    "    temp = row.split()[4]\n",
    "    data3.append(int(row.split()[-1]))\n",
    "    if temp == \"N\":\n",
    "        data2.append(1)\n",
    "    else:\n",
    "        data2.append(0)\n",
    "file2.close()"
   ]
  },
  {
   "cell_type": "code",
   "execution_count": 45,
   "metadata": {},
   "outputs": [],
   "source": [
    "data3 = np.asarray(data3).reshape(-1,1)\n",
    "data4 = np.asarray(data4)\n",
    "Y = np.asarray(data2)"
   ]
  },
  {
   "cell_type": "code",
   "execution_count": 7,
   "metadata": {
    "scrolled": true
   },
   "outputs": [
    {
     "data": {
      "text/plain": [
       "(61541,)"
      ]
     },
     "execution_count": 7,
     "metadata": {},
     "output_type": "execute_result"
    }
   ],
   "source": [
    "some = X[:,0]"
   ]
  },
  {
   "cell_type": "code",
   "execution_count": 34,
   "metadata": {},
   "outputs": [],
   "source": [
    "tfidf_vector = TfidfVectorizer(stop_words='english')\n",
    "X = tfidf_vector.fit_transform(data1)\n",
    "# xvt_test = tfidf_vector.transform(x_test[:,0])"
   ]
  },
  {
   "cell_type": "code",
   "execution_count": 35,
   "metadata": {},
   "outputs": [],
   "source": [
    "svd = TruncatedSVD(n_components = 100)\n",
    "X = svd.fit_transform(X)"
   ]
  },
  {
   "cell_type": "code",
   "execution_count": 36,
   "metadata": {},
   "outputs": [],
   "source": [
    "X = np.hstack((X,data3,data4))"
   ]
  },
  {
   "cell_type": "code",
   "execution_count": 46,
   "metadata": {},
   "outputs": [],
   "source": [
    "xvt_train = X[:5000]\n",
    "y_train = Y[:5000]\n",
    "xvt_test = X[5000:]\n",
    "y_test = Y[5000:]"
   ]
  },
  {
   "cell_type": "code",
   "execution_count": 47,
   "metadata": {},
   "outputs": [
    {
     "data": {
      "text/plain": [
       "(61541,)"
      ]
     },
     "execution_count": 47,
     "metadata": {},
     "output_type": "execute_result"
    }
   ],
   "source": [
    "Y.shape"
   ]
  },
  {
   "cell_type": "code",
   "execution_count": 50,
   "metadata": {},
   "outputs": [
    {
     "name": "stdout",
     "output_type": "stream",
     "text": [
      "0.8560159883977998\n"
     ]
    }
   ],
   "source": [
    "#trying with random forest\n",
    "rfc = RandomForestClassifier()\n",
    "rfc.fit(xvt_train,y_train)\n",
    "\n",
    "y_pred=rfc.predict(xvt_test)\n",
    "score = accuracy_score(y_pred, y_test)\n",
    "print(score)"
   ]
  },
  {
   "cell_type": "code",
   "execution_count": 86,
   "metadata": {},
   "outputs": [],
   "source": [
    "# with count vectorization\n",
    "bigram_vector = CountVectorizer(ngram_range=(2, 2),token_pattern=r'\\b\\w+\\b', min_df=1)\n",
    "X_bi = bigram_vector.fit_transform(data1)"
   ]
  },
  {
   "cell_type": "code",
   "execution_count": 88,
   "metadata": {},
   "outputs": [
    {
     "data": {
      "text/plain": [
       "scipy.sparse.csr.csr_matrix"
      ]
     },
     "execution_count": 88,
     "metadata": {},
     "output_type": "execute_result"
    }
   ],
   "source": []
  },
  {
   "cell_type": "code",
   "execution_count": null,
   "metadata": {},
   "outputs": [],
   "source": [
    "\n",
    "# xvc_test = bigram_vector.transform(x_test)  #.todense()\n",
    "\n",
    "rfc1 = RandomForestClassifier()\n",
    "rfc1.fit(xvc_train,y_train)\n",
    "\n",
    "y_pred1=rfc1.predict(xvc_test)\n",
    "score1 = rfc1.score(xvc_test, y_test)\n",
    "print(score1)"
   ]
  },
  {
   "cell_type": "code",
   "execution_count": null,
   "metadata": {},
   "outputs": [],
   "source": []
  },
  {
   "cell_type": "code",
   "execution_count": null,
   "metadata": {},
   "outputs": [],
   "source": []
  },
  {
   "cell_type": "code",
   "execution_count": null,
   "metadata": {},
   "outputs": [],
   "source": []
  },
  {
   "cell_type": "code",
   "execution_count": null,
   "metadata": {},
   "outputs": [],
   "source": []
  },
  {
   "cell_type": "code",
   "execution_count": null,
   "metadata": {},
   "outputs": [],
   "source": []
  }
 ],
 "metadata": {
  "kernelspec": {
   "display_name": "Python 3",
   "language": "python",
   "name": "python3"
  },
  "language_info": {
   "codemirror_mode": {
    "name": "ipython",
    "version": 3
   },
   "file_extension": ".py",
   "mimetype": "text/x-python",
   "name": "python",
   "nbconvert_exporter": "python",
   "pygments_lexer": "ipython3",
   "version": "3.8.5"
  }
 },
 "nbformat": 4,
 "nbformat_minor": 4
}
